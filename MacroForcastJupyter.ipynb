{
 "cells": [
  {
   "cell_type": "code",
   "execution_count": 22,
   "id": "408b37f1",
   "metadata": {},
   "outputs": [
    {
     "name": "stdout",
     "output_type": "stream",
     "text": [
      "Requirement already satisfied: fredapi in c:\\users\\felip\\appdata\\local\\packages\\pythonsoftwarefoundation.python.3.11_qbz5n2kfra8p0\\localcache\\local-packages\\python311\\site-packages (0.5.2)\n",
      "Requirement already satisfied: pandas in c:\\users\\felip\\appdata\\local\\packages\\pythonsoftwarefoundation.python.3.11_qbz5n2kfra8p0\\localcache\\local-packages\\python311\\site-packages (from fredapi) (2.2.3)\n",
      "Requirement already satisfied: numpy>=1.23.2 in c:\\users\\felip\\appdata\\local\\packages\\pythonsoftwarefoundation.python.3.11_qbz5n2kfra8p0\\localcache\\local-packages\\python311\\site-packages (from pandas->fredapi) (1.26.4)\n",
      "Requirement already satisfied: python-dateutil>=2.8.2 in c:\\users\\felip\\appdata\\local\\packages\\pythonsoftwarefoundation.python.3.11_qbz5n2kfra8p0\\localcache\\local-packages\\python311\\site-packages (from pandas->fredapi) (2.9.0.post0)\n",
      "Requirement already satisfied: pytz>=2020.1 in c:\\users\\felip\\appdata\\local\\packages\\pythonsoftwarefoundation.python.3.11_qbz5n2kfra8p0\\localcache\\local-packages\\python311\\site-packages (from pandas->fredapi) (2025.1)\n",
      "Requirement already satisfied: tzdata>=2022.7 in c:\\users\\felip\\appdata\\local\\packages\\pythonsoftwarefoundation.python.3.11_qbz5n2kfra8p0\\localcache\\local-packages\\python311\\site-packages (from pandas->fredapi) (2025.1)\n",
      "Requirement already satisfied: six>=1.5 in c:\\users\\felip\\appdata\\local\\packages\\pythonsoftwarefoundation.python.3.11_qbz5n2kfra8p0\\localcache\\local-packages\\python311\\site-packages (from python-dateutil>=2.8.2->pandas->fredapi) (1.17.0)\n",
      "Note: you may need to restart the kernel to use updated packages.\n"
     ]
    }
   ],
   "source": [
    "%pip install fredapi\n",
    "import pandas_datareader.data as web\n",
    "import datetime\n",
    "import pandas as pd\n",
    "from fredapi import Fred\n",
    "fred = Fred(api_key=\"589cf170582c78433b3c562dad988b45\")\n"
   ]
  },
  {
   "cell_type": "markdown",
   "id": "5d830bfd",
   "metadata": {},
   "source": [
    "# Key Macroeconomic FRED Series\n",
    "\n",
    "This document summarizes five major macroeconomic indicators from FRED, including their definitions, calculation methods, frequency, and common uses in forecasting.\n",
    "\n",
    "---\n",
    "\n",
    "## 1️⃣ GNPCA — Real Gross National Product (Billions of Chained 2017 Dollars)\n",
    "\n",
    "**What it measures:**  \n",
    "- Total economic output produced by **U.S. residents**, including income from abroad.\n",
    "\n",
    "**How it’s calculated:**  \n",
    "$\n",
    "\\text{GNP} = \\text{GDP} + \\text{Net income from abroad}\n",
    "$  \n",
    "- **GDP**: Value of goods/services produced domestically.  \n",
    "- **Net income from abroad**: Income residents earn from foreign investments minus income foreigners earn from U.S. investments.  \n",
    "\n",
    "**Real vs Nominal:**  \n",
    "- “Real” = inflation-adjusted to **2017 dollars** using chain-weighted price indexes.\n",
    "\n",
    "**Frequency:** Annual  \n",
    "**Source:** BEA (Bureau of Economic Analysis)  \n",
    "**Notes:** Useful for long-term economic growth analysis; smoother than GDP due to inclusion of net foreign income.\n",
    "\n",
    "---\n",
    "\n",
    "## 2️⃣ GDP — Gross Domestic Product (Billions of Dollars)\n",
    "\n",
    "**What it measures:**  \n",
    "- Total value of goods and services **produced within U.S. borders**, regardless of producer nationality.\n",
    "\n",
    "**How it’s calculated:**  \n",
    "1. **Expenditure approach:**  \n",
    "$\n",
    "GDP = C + I + G + (X - M)\n",
    "$  \n",
    "- \\(C\\) = Consumption  \n",
    "- \\(I\\) = Investment  \n",
    "- \\(G\\) = Government spending  \n",
    "- \\(X - M\\) = Exports minus Imports  \n",
    "\n",
    "2. **Income approach:** Sum of wages, rents, interest, profits, and taxes minus subsidies.  \n",
    "3. **Production approach:** Sum of value added at each production stage.\n",
    "\n",
    "**Real vs Nominal:**  \n",
    "- Real GDP = inflation-adjusted (usually chained dollars, e.g., 2017)  \n",
    "\n",
    "**Frequency:** Quarterly / Annual  \n",
    "**Source:** BEA  \n",
    "**Notes:** Standard measure of economic growth.\n",
    "\n",
    "---\n",
    "\n",
    "## 3️⃣ UNRATE — Civilian Unemployment Rate (%)\n",
    "\n",
    "**What it measures:**  \n",
    "- % of the **civilian labor force that is unemployed but actively seeking work**.\n",
    "\n",
    "**How it’s calculated:**  \n",
    "$\n",
    "\\text{Unemployment Rate} = \\frac{\\text{Unemployed}}{\\text{Labor Force}} \\times 100\n",
    "$  \n",
    "- Labor force = employed + unemployed  \n",
    "- Data from **Current Population Survey (CPS)** by BLS.\n",
    "\n",
    "**Frequency:** Monthly  \n",
    "**Seasonal adjustment:** Usually seasonally adjusted for short-term cycles.  \n",
    "\n",
    "**Notes:** Leading indicator of economic health; used for inflation and monetary policy analysis.\n",
    "\n",
    "---\n",
    "\n",
    "## 4️⃣ CPIAUCSL — Consumer Price Index for All Urban Consumers: All Items (Index, 1982-84=100)\n",
    "\n",
    "**What it measures:**  \n",
    "- Average change in **prices paid by urban consumers** for a **fixed basket of goods & services**.\n",
    "\n",
    "**How it’s calculated:**  \n",
    "- Prices of ~80,000 items surveyed monthly across urban areas.  \n",
    "- Basket weights based on expenditure patterns.  \n",
    "- Index formula (Laspeyres-type):  \n",
    "$\n",
    "CPI = \\frac{\\sum p_t q_0}{\\sum p_0 q_0} \\times 100\n",
    "$  \n",
    "- \\(p_t\\) = price at time t, \\(q_0\\) = base-period quantities  \n",
    "\n",
    "**Frequency:** Monthly  \n",
    "**Seasonal adjustment:** Available (NSA and SA)  \n",
    "\n",
    "**Notes:** Main inflation measure; used for real-dollar conversions and cost-of-living adjustments.\n",
    "\n",
    "---\n",
    "\n",
    "## 5️⃣ INDPRO — Industrial Production Index (2007=100)\n",
    "\n",
    "**What it measures:**  \n",
    "- Output of **manufacturing, mining, and utilities** in the U.S.  \n",
    "\n",
    "**How it’s calculated:**  \n",
    "- Uses **physical output data** from factories, mines, and utilities.  \n",
    "- Weighted to reflect contribution to GDP:  \n",
    "$\n",
    "\\text{INDPRO Index} = \\frac{\\text{Current production}}{\\text{Base year production}} \\times 100\n",
    "$  \n",
    "- Base year: 2007 = 100.\n",
    "\n",
    "**Frequency:** Monthly  \n",
    "**Seasonal adjustment:** Available  \n",
    "\n",
    "**Notes:** Leading indicator of industrial activity; often used to forecast GDP cycles.\n",
    "\n",
    "---\n",
    "\n",
    "## ✅ Quick Comparison Table\n",
    "\n",
    "| Series ID  | Metric Type | Frequency | Real/Nominal | Source | Key Use |\n",
    "|------------|------------|-----------|--------------|--------|---------|\n",
    "| GNPCA      | Total output (residents) | Annual | Real (2017 chained $) | BEA | Long-term growth analysis |\n",
    "| GDP        | Total domestic output | Quarterly/Annual | Real or Nominal | BEA | Standard economic growth measure |\n",
    "| UNRATE     | % Unemployed | Monthly | NA | BLS | Labor market, cyclical indicator |\n",
    "| CPIAUCSL   | Price index | Monthly | Nominal (Index) | BLS | Inflation, real dollar conversion |\n",
    "| INDPRO     | Industrial output | Monthly | Index (2007=100) | FED | Leading indicator for industrial & GDP trends |\n"
   ]
  },
  {
   "cell_type": "code",
   "execution_count": 42,
   "id": "c299ba81",
   "metadata": {},
   "outputs": [
    {
     "name": "stdout",
     "output_type": "stream",
     "text": [
      "                GNPCA        GDP  UNRATE  CPIAUCSL   INDPRO\n",
      "DATE                                                       \n",
      "2000-01-01  14144.962  10002.179     4.0     169.3  91.4092\n",
      "2000-02-01        NaN        NaN     4.1     170.0  91.7245\n",
      "2000-03-01        NaN        NaN     4.0     171.0  92.0830\n",
      "2000-04-01        NaN  10247.720     3.8     170.9  92.6659\n",
      "2000-05-01        NaN        NaN     4.0     171.2  92.9347\n"
     ]
    },
    {
     "data": {
      "text/plain": [
       "308"
      ]
     },
     "execution_count": 42,
     "metadata": {},
     "output_type": "execute_result"
    }
   ],
   "source": [
    "start = datetime.datetime(2000, 1, 1)\n",
    "end = datetime.datetime(2025, 9, 1)\n",
    "\n",
    "series_ids = ['GNPCA','GDP', 'UNRATE', 'CPIAUCSL', 'INDPRO']\n",
    "\n",
    "\n",
    "df_fred = web.DataReader(series_ids, 'fred', start, end)\n",
    "\n",
    "print(df_fred.head())\n",
    "df_fred[\"GDP\"].size\n"
   ]
  },
  {
   "cell_type": "code",
   "execution_count": 40,
   "id": "3f075c92",
   "metadata": {},
   "outputs": [
    {
     "name": "stdout",
     "output_type": "stream",
     "text": [
      "5\n",
      "                GNPCA        GDP  UNRATE  CPIAUCSL    INDPRO\n",
      "2000-01-01  14144.962  10002.179     4.0   169.300   91.4092\n",
      "2000-02-01        NaN        NaN     4.1   170.000   91.7245\n",
      "2000-03-01        NaN        NaN     4.0   171.000   92.0830\n",
      "2000-04-01        NaN  10247.720     3.8   170.900   92.6659\n",
      "2000-05-01        NaN        NaN     4.0   171.200   92.9347\n",
      "...               ...        ...     ...       ...       ...\n",
      "2025-04-01        NaN  30353.902     4.2   320.321  103.6696\n",
      "2025-05-01        NaN        NaN     4.2   320.580  103.7484\n",
      "2025-06-01        NaN        NaN     4.1   321.500  104.1137\n",
      "2025-07-01        NaN        NaN     4.2   322.132  103.9867\n",
      "2025-08-01        NaN        NaN     4.3   323.364       NaN\n",
      "\n",
      "[308 rows x 5 columns]\n"
     ]
    },
    {
     "data": {
      "text/plain": [
       "308"
      ]
     },
     "execution_count": 40,
     "metadata": {},
     "output_type": "execute_result"
    }
   ],
   "source": [
    "\n",
    "# Vintage Data\n",
    "vintage = []\n",
    "\n",
    "for i in series_ids:\n",
    "    vindata = fred.get_series(i, observation_start=\"2000-01-01\" ,observation_end=\"2025-09-01\")\n",
    "    vintage.append(vindata)\n",
    "print(len(vintage))\n",
    "df_vintage = pd.DataFrame(vintage).T\n",
    "df_vintage.columns = series_ids\n",
    "print(df_vintage)\n",
    "df_vintage[\"GDP\"].size"
   ]
  },
  {
   "cell_type": "code",
   "execution_count": null,
   "id": "a306e36d",
   "metadata": {},
   "outputs": [
    {
     "data": {
      "text/plain": [
       "GNPCA\n",
       "14144.962    1\n",
       "18049.236    1\n",
       "22769.380    1\n",
       "22176.949    1\n",
       "21648.657    1\n",
       "20482.341    1\n",
       "21000.945    1\n",
       "20490.925    1\n",
       "19905.052    1\n",
       "19372.908    1\n",
       "19021.225    1\n",
       "18499.720    1\n",
       "17686.281    1\n",
       "14294.624    1\n",
       "17306.204    1\n",
       "17013.917    1\n",
       "16514.062    1\n",
       "16940.097    1\n",
       "16867.780    1\n",
       "16483.539    1\n",
       "16075.089    1\n",
       "15542.707    1\n",
       "14949.293    1\n",
       "14529.585    1\n",
       "23368.468    1\n",
       "Name: count, dtype: int64"
      ]
     },
     "execution_count": 38,
     "metadata": {},
     "output_type": "execute_result"
    }
   ],
   "source": [
    "def nancounter(id, df):\n",
    "    return df[id].isna().sum()\n",
    "\n",
    "def valuecounter(id,df):\n",
    "    return df[id].value_counts()\n",
    "\n"
   ]
  },
  {
   "cell_type": "markdown",
   "id": "934f446d",
   "metadata": {},
   "source": [
    "# High Frequency data"
   ]
  },
  {
   "cell_type": "code",
   "execution_count": 43,
   "id": "be276845",
   "metadata": {},
   "outputs": [
    {
     "name": "stdout",
     "output_type": "stream",
     "text": [
      "2025-08-09    224000.0\n",
      "2025-08-16    234000.0\n",
      "2025-08-23    229000.0\n",
      "2025-08-30    236000.0\n",
      "2025-09-06    263000.0\n",
      "dtype: float64\n",
      "2025-09-09    6512.61\n",
      "2025-09-10    6532.04\n",
      "2025-09-11    6587.47\n",
      "2025-09-12    6584.29\n",
      "2025-09-15    6615.28\n",
      "dtype: float64\n",
      "              1Y    2Y   10Y   30Y\n",
      "2025-09-08  3.64  3.49  4.05  4.69\n",
      "2025-09-09  3.68  3.54  4.08  4.72\n",
      "2025-09-10  3.66  3.54  4.04  4.69\n",
      "2025-09-11  3.63  3.52  4.01  4.65\n",
      "2025-09-12  3.66  3.56  4.06  4.68\n"
     ]
    }
   ],
   "source": [
    "jobless_claims = fred.get_series(\"ICSA\")\n",
    "print(jobless_claims.tail())\n",
    "\n",
    "sp500 = fred.get_series(\"SP500\")\n",
    "print(sp500.tail())\n",
    "\n",
    "yields = pd.DataFrame({\n",
    "    \"1Y\": fred.get_series(\"DGS1\"),\n",
    "    \"2Y\": fred.get_series(\"DGS2\"),\n",
    "    \"10Y\": fred.get_series(\"DGS10\"),\n",
    "    \"30Y\": fred.get_series(\"DGS30\"),\n",
    "})\n",
    "print(yields.tail())"
   ]
  },
  {
   "cell_type": "markdown",
   "id": "26ece585",
   "metadata": {},
   "source": [
    "# Plots and Graphs"
   ]
  },
  {
   "cell_type": "code",
   "execution_count": null,
   "id": "3b3995fa",
   "metadata": {},
   "outputs": [],
   "source": []
  }
 ],
 "metadata": {
  "kernelspec": {
   "display_name": "Python 3",
   "language": "python",
   "name": "python3"
  },
  "language_info": {
   "codemirror_mode": {
    "name": "ipython",
    "version": 3
   },
   "file_extension": ".py",
   "mimetype": "text/x-python",
   "name": "python",
   "nbconvert_exporter": "python",
   "pygments_lexer": "ipython3",
   "version": "3.11.9"
  }
 },
 "nbformat": 4,
 "nbformat_minor": 5
}
